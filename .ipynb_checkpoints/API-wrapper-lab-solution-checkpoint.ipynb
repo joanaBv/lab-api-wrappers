{
 "cells": [
  {
   "cell_type": "code",
   "execution_count": 143,
   "id": "610e6f15",
   "metadata": {},
   "outputs": [],
   "source": [
    "import requests\n",
    "import pandas as pd\n",
    "import spotipy\n",
    "from spotipy.oauth2 import SpotifyClientCredentials\n",
    "from random import randint\n",
    "from time import sleep\n",
    "from bs4 import BeautifulSoup"
   ]
  },
  {
   "cell_type": "code",
   "execution_count": 2,
   "id": "e898e5b6",
   "metadata": {},
   "outputs": [],
   "source": [
    "secrets_file = open(\"secrets.txt\",\"r\")\n",
    "string = secrets_file.read()\n",
    "secrets_dict={}\n",
    "for line in string.split('\\n'):\n",
    "    if len(line) > 0:\n",
    "        secrets_dict[line.split(':')[0]]=line.split(':')[1]"
   ]
  },
  {
   "cell_type": "code",
   "execution_count": 3,
   "id": "c4dc06d1",
   "metadata": {},
   "outputs": [],
   "source": [
    "sp = spotipy.Spotify(auth_manager=SpotifyClientCredentials(client_id=secrets_dict['cid'],\n",
    "                                                           client_secret=secrets_dict['csecret']))"
   ]
  },
  {
   "cell_type": "markdown",
   "id": "39b8a8f1",
   "metadata": {},
   "source": [
    "## Getting the Playilsts"
   ]
  },
  {
   "cell_type": "code",
   "execution_count": 4,
   "id": "df93037d",
   "metadata": {},
   "outputs": [],
   "source": [
    "playlist60 = sp.user_playlist_tracks(\"spotify\", \"37i9dQZF1DXaKIA8E7WcJj\")\n",
    "playlist70 = sp.user_playlist_tracks(\"spotify\", \"37i9dQZF1DWTJ7xPn4vNaz\")\n",
    "playlist80 = sp.user_playlist_tracks(\"spotify\", \"37i9dQZF1DX4UtSsGT1Sbe\")\n",
    "playlist90 = sp.user_playlist_tracks(\"spotify\", \"37i9dQZF1DXbTxeAdrVG2l\")\n",
    "playlist00 = sp.user_playlist_tracks(\"spotify\", \"37i9dQZF1DX4o1oenSJRJd\")\n",
    "playlist10 = sp.user_playlist_tracks(\"spotify\", \"37i9dQZF1DX5Ejj0EkURtP\")"
   ]
  },
  {
   "cell_type": "code",
   "execution_count": 44,
   "id": "294323dd",
   "metadata": {},
   "outputs": [],
   "source": [
    "def get_playlist_tracks(playlist_id):\n",
    "    results = sp.user_playlist_tracks(\"spotify\",playlist_id)\n",
    "    tracks = results['items']\n",
    "    while results['next']!=None:\n",
    "        results = sp.next(results)\n",
    "        tracks = tracks + results['items']\n",
    "        sleep(randint(1,3))\n",
    "    return tracks"
   ]
  },
  {
   "cell_type": "code",
   "execution_count": 71,
   "id": "59286e2f",
   "metadata": {},
   "outputs": [],
   "source": [
    "playlist60s=get_playlist_tracks('37i9dQZF1DXaKIA8E7WcJj')\n",
    "playlist70s=get_playlist_tracks('37i9dQZF1DWTJ7xPn4vNaz')\n",
    "playlist80s=get_playlist_tracks('37i9dQZF1DX4UtSsGT1Sbe')\n",
    "playlist90s=get_playlist_tracks('37i9dQZF1DXbTxeAdrVG2l')\n",
    "playlist00s=get_playlist_tracks('37i9dQZF1DX4o1oenSJRJd')\n",
    "playlist10s=get_playlist_tracks('37i9dQZF1DX5Ejj0EkURtP')"
   ]
  },
  {
   "cell_type": "markdown",
   "id": "1ba6ee3e",
   "metadata": {},
   "source": [
    "## Getting Music Data from Playlists"
   ]
  },
  {
   "cell_type": "code",
   "execution_count": 75,
   "id": "1550f5f4",
   "metadata": {},
   "outputs": [],
   "source": [
    "def get_artists(playlist):\n",
    "    artists=[]\n",
    "\n",
    "    for i in range(len(playlist)):\n",
    "        artist=playlist[i][\"track\"][\"artists\"][0]['name']\n",
    "        artists.append(artist)\n",
    "    \n",
    "    return (artists)"
   ]
  },
  {
   "cell_type": "code",
   "execution_count": 86,
   "id": "996108b0",
   "metadata": {},
   "outputs": [],
   "source": [
    "def get_titles(playlist):\n",
    "    titles=[]\n",
    "\n",
    "    for i in range(len(playlist)):\n",
    "        title=playlist[i][\"track\"][\"name\"]\n",
    "        titles.append(title)\n",
    "    \n",
    "    return (titles)"
   ]
  },
  {
   "cell_type": "code",
   "execution_count": 97,
   "id": "ca86583c",
   "metadata": {},
   "outputs": [],
   "source": [
    "def get_features(playlist):\n",
    "    song_audio_features=[]\n",
    "    \n",
    "    for i in range(len(playlist)):\n",
    "        song_uri = playlist[i][\"track\"][\"uri\"]\n",
    "        song_af = sp.audio_features(song_uri)\n",
    "        song_audio_features.append(song_af)\n",
    "    \n",
    "    return (song_audio_features)"
   ]
  },
  {
   "cell_type": "code",
   "execution_count": 136,
   "id": "41c26514",
   "metadata": {},
   "outputs": [],
   "source": [
    "artists60s = get_artists(playlist60s)\n",
    "songs60s = get_titles(playlist60s)\n",
    "features60s = get_features(playlist60s)\n",
    "artists70s = get_artists(playlist70s)\n",
    "songs70s = get_titles(playlist70s)\n",
    "features70s = get_features(playlist70s)\n",
    "artists80s = get_artists(playlist80s)\n",
    "songs80s = get_titles(playlist80s)\n",
    "features80s = get_features(playlist80s)\n",
    "artists90s = get_artists(playlist90s)\n",
    "songs90s = get_titles(playlist90s)\n",
    "features90s = get_features(playlist90s)\n",
    "artists00s = get_artists(playlist00s)\n",
    "songs00s = get_titles(playlist00s)\n",
    "features00s = get_features(playlist00s)\n",
    "artists10s = get_artists(playlist10s)\n",
    "songs10s = get_titles(playlist10s)\n",
    "features10s = get_features(playlist10s)"
   ]
  },
  {
   "cell_type": "code",
   "execution_count": 137,
   "id": "921288f1",
   "metadata": {},
   "outputs": [],
   "source": [
    "artists60s = pd.DataFrame(artists60s,columns =['Artists'])\n",
    "songs60s = pd.DataFrame(songs60s,columns =['Song Title'])\n",
    "artists70s = pd.DataFrame(artists70s,columns =['Artists'])\n",
    "songs70s = pd.DataFrame(songs70s,columns =['Song Title'])\n",
    "artists80s = pd.DataFrame(artists80s,columns =['Artists'])\n",
    "songs80s = pd.DataFrame(songs80s,columns =['Song Title'])\n",
    "artists90s = pd.DataFrame(artists90s,columns =['Artists'])\n",
    "songs90s = pd.DataFrame(songs90s,columns =['Song Title'])\n",
    "artists00s = pd.DataFrame(artists00s,columns =['Artists'])\n",
    "songs00s = pd.DataFrame(songs00s,columns =['Song Title'])\n",
    "artists10s = pd.DataFrame(artists10s,columns =['Artists'])\n",
    "songs10s = pd.DataFrame(songs10s,columns =['Song Title'])"
   ]
  },
  {
   "cell_type": "code",
   "execution_count": 138,
   "id": "1ea7e0f3",
   "metadata": {},
   "outputs": [],
   "source": [
    "features60 = pd.DataFrame(features60s)\n",
    "features70 = pd.DataFrame(features60s)\n",
    "features80 = pd.DataFrame(features60s)\n",
    "features90 = pd.DataFrame(features60s)\n",
    "features00 = pd.DataFrame(features60s)\n",
    "features10 = pd.DataFrame(features60s)"
   ]
  },
  {
   "cell_type": "code",
   "execution_count": 140,
   "id": "d0e52dd3",
   "metadata": {},
   "outputs": [],
   "source": [
    "audio_features_60s = pd.DataFrame(features60[0].tolist())\n",
    "audio_features_60s = audio_features_60s.drop(['type','id','uri','track_href','analysis_url','duration_ms','time_signature'], axis=1)\n",
    "audio_features_70s = pd.DataFrame(features70[0].tolist())\n",
    "audio_features_70s = audio_features_70s.drop(['type','id','uri','track_href','analysis_url','duration_ms','time_signature'], axis=1)\n",
    "audio_features_80s = pd.DataFrame(features80[0].tolist())\n",
    "audio_features_80s = audio_features_80s.drop(['type','id','uri','track_href','analysis_url','duration_ms','time_signature'], axis=1)\n",
    "audio_features_90s = pd.DataFrame(features90[0].tolist())\n",
    "audio_features_90s = audio_features_90s.drop(['type','id','uri','track_href','analysis_url','duration_ms','time_signature'], axis=1)\n",
    "audio_features_00s = pd.DataFrame(features00[0].tolist())\n",
    "audio_features_00s = audio_features_00s.drop(['type','id','uri','track_href','analysis_url','duration_ms','time_signature'], axis=1)\n",
    "audio_features_10s = pd.DataFrame(features10[0].tolist())\n",
    "audio_features_10s = audio_features_10s.drop(['type','id','uri','track_href','analysis_url','duration_ms','time_signature'], axis=1)"
   ]
  },
  {
   "cell_type": "code",
   "execution_count": 141,
   "id": "f9e2b79e",
   "metadata": {},
   "outputs": [],
   "source": [
    "the60s = pd.concat([artists60s, songs60s, audio_features_60s], axis=1)\n",
    "the70s = pd.concat([artists70s, songs70s, audio_features_70s], axis=1)\n",
    "the80s = pd.concat([artists80s, songs80s, audio_features_80s], axis=1)\n",
    "the90s = pd.concat([artists90s, songs90s, audio_features_90s], axis=1)\n",
    "the00s = pd.concat([artists00s, songs00s, audio_features_00s], axis=1)\n",
    "the10s = pd.concat([artists10s, songs10s, audio_features_10s], axis=1)\n",
    "\n",
    "master_playlist = pd.concat([the60s, the70s, the80s, the90s, the00s, the10s])"
   ]
  },
  {
   "cell_type": "code",
   "execution_count": 142,
   "id": "4cee93ae",
   "metadata": {},
   "outputs": [
    {
     "data": {
      "text/html": [
       "<div>\n",
       "<style scoped>\n",
       "    .dataframe tbody tr th:only-of-type {\n",
       "        vertical-align: middle;\n",
       "    }\n",
       "\n",
       "    .dataframe tbody tr th {\n",
       "        vertical-align: top;\n",
       "    }\n",
       "\n",
       "    .dataframe thead th {\n",
       "        text-align: right;\n",
       "    }\n",
       "</style>\n",
       "<table border=\"1\" class=\"dataframe\">\n",
       "  <thead>\n",
       "    <tr style=\"text-align: right;\">\n",
       "      <th></th>\n",
       "      <th>Artists</th>\n",
       "      <th>Song Title</th>\n",
       "      <th>danceability</th>\n",
       "      <th>energy</th>\n",
       "      <th>key</th>\n",
       "      <th>loudness</th>\n",
       "      <th>mode</th>\n",
       "      <th>speechiness</th>\n",
       "      <th>acousticness</th>\n",
       "      <th>instrumentalness</th>\n",
       "      <th>liveness</th>\n",
       "      <th>valence</th>\n",
       "      <th>tempo</th>\n",
       "    </tr>\n",
       "  </thead>\n",
       "  <tbody>\n",
       "    <tr>\n",
       "      <th>0</th>\n",
       "      <td>Ben E. King</td>\n",
       "      <td>Stand By Me</td>\n",
       "      <td>0.653</td>\n",
       "      <td>0.334</td>\n",
       "      <td>9</td>\n",
       "      <td>-6.955</td>\n",
       "      <td>1</td>\n",
       "      <td>0.0313</td>\n",
       "      <td>0.411000</td>\n",
       "      <td>0.000035</td>\n",
       "      <td>0.1230</td>\n",
       "      <td>0.665</td>\n",
       "      <td>119.460</td>\n",
       "    </tr>\n",
       "    <tr>\n",
       "      <th>1</th>\n",
       "      <td>Percy Sledge</td>\n",
       "      <td>When a Man Loves a Woman</td>\n",
       "      <td>0.526</td>\n",
       "      <td>0.436</td>\n",
       "      <td>1</td>\n",
       "      <td>-6.020</td>\n",
       "      <td>1</td>\n",
       "      <td>0.0232</td>\n",
       "      <td>0.098100</td>\n",
       "      <td>0.000008</td>\n",
       "      <td>0.1180</td>\n",
       "      <td>0.286</td>\n",
       "      <td>96.903</td>\n",
       "    </tr>\n",
       "    <tr>\n",
       "      <th>2</th>\n",
       "      <td>The Rolling Stones</td>\n",
       "      <td>(I Can't Get No) Satisfaction - Mono Version</td>\n",
       "      <td>0.731</td>\n",
       "      <td>0.837</td>\n",
       "      <td>9</td>\n",
       "      <td>-8.673</td>\n",
       "      <td>1</td>\n",
       "      <td>0.0477</td>\n",
       "      <td>0.000287</td>\n",
       "      <td>0.150000</td>\n",
       "      <td>0.0978</td>\n",
       "      <td>0.832</td>\n",
       "      <td>135.603</td>\n",
       "    </tr>\n",
       "    <tr>\n",
       "      <th>3</th>\n",
       "      <td>Sam Cooke</td>\n",
       "      <td>(What A) Wonderful World</td>\n",
       "      <td>0.691</td>\n",
       "      <td>0.507</td>\n",
       "      <td>11</td>\n",
       "      <td>-10.230</td>\n",
       "      <td>1</td>\n",
       "      <td>0.0343</td>\n",
       "      <td>0.627000</td>\n",
       "      <td>0.000000</td>\n",
       "      <td>0.4570</td>\n",
       "      <td>0.885</td>\n",
       "      <td>128.518</td>\n",
       "    </tr>\n",
       "    <tr>\n",
       "      <th>4</th>\n",
       "      <td>Van Morrison</td>\n",
       "      <td>Brown Eyed Girl</td>\n",
       "      <td>0.491</td>\n",
       "      <td>0.583</td>\n",
       "      <td>7</td>\n",
       "      <td>-10.964</td>\n",
       "      <td>1</td>\n",
       "      <td>0.0376</td>\n",
       "      <td>0.185000</td>\n",
       "      <td>0.000000</td>\n",
       "      <td>0.4060</td>\n",
       "      <td>0.908</td>\n",
       "      <td>150.566</td>\n",
       "    </tr>\n",
       "  </tbody>\n",
       "</table>\n",
       "</div>"
      ],
      "text/plain": [
       "              Artists                                    Song Title  \\\n",
       "0         Ben E. King                                   Stand By Me   \n",
       "1        Percy Sledge                      When a Man Loves a Woman   \n",
       "2  The Rolling Stones  (I Can't Get No) Satisfaction - Mono Version   \n",
       "3           Sam Cooke                      (What A) Wonderful World   \n",
       "4        Van Morrison                               Brown Eyed Girl   \n",
       "\n",
       "   danceability  energy  key  loudness  mode  speechiness  acousticness  \\\n",
       "0         0.653   0.334    9    -6.955     1       0.0313      0.411000   \n",
       "1         0.526   0.436    1    -6.020     1       0.0232      0.098100   \n",
       "2         0.731   0.837    9    -8.673     1       0.0477      0.000287   \n",
       "3         0.691   0.507   11   -10.230     1       0.0343      0.627000   \n",
       "4         0.491   0.583    7   -10.964     1       0.0376      0.185000   \n",
       "\n",
       "   instrumentalness  liveness  valence    tempo  \n",
       "0          0.000035    0.1230    0.665  119.460  \n",
       "1          0.000008    0.1180    0.286   96.903  \n",
       "2          0.150000    0.0978    0.832  135.603  \n",
       "3          0.000000    0.4570    0.885  128.518  \n",
       "4          0.000000    0.4060    0.908  150.566  "
      ]
     },
     "execution_count": 142,
     "metadata": {},
     "output_type": "execute_result"
    }
   ],
   "source": [
    "master_playlist.head()"
   ]
  },
  {
   "cell_type": "markdown",
   "id": "29fff95c",
   "metadata": {},
   "source": [
    "## Adding my Hot Playlist"
   ]
  },
  {
   "cell_type": "code",
   "execution_count": 144,
   "id": "8a249fe7",
   "metadata": {},
   "outputs": [
    {
     "data": {
      "text/plain": [
       "200"
      ]
     },
     "execution_count": 144,
     "metadata": {},
     "output_type": "execute_result"
    }
   ],
   "source": [
    "url = \"https://www.billboard.com/charts/hot-100/\"\n",
    "response = requests.get(url)\n",
    "response.status_code"
   ]
  },
  {
   "cell_type": "code",
   "execution_count": 145,
   "id": "d4ac3b2f",
   "metadata": {},
   "outputs": [
    {
     "data": {
      "text/plain": [
       "[<li class=\"o-chart-results-list__item // lrv-u-flex-grow-1 lrv-u-flex lrv-u-flex-direction-column lrv-u-justify-content-center lrv-u-border-b-1 u-border-b-0@mobile-max lrv-u-border-color-grey-light lrv-u-padding-l-1@mobile-max\">\n",
       " <h3 class=\"c-title a-no-trucate a-font-primary-bold-s u-letter-spacing-0021 u-font-size-23@tablet lrv-u-font-size-16 u-line-height-125 u-line-height-normal@mobile-max a-truncate-ellipsis u-max-width-245 u-max-width-230@tablet-only u-letter-spacing-0028@tablet\" id=\"title-of-a-story\">\n",
       " All Too Well (Taylor's Version)\n",
       " </h3>\n",
       " <span class=\"c-label a-no-trucate a-font-primary-s lrv-u-font-size-14@mobile-max u-line-height-normal@mobile-max u-letter-spacing-0021 lrv-u-display-block a-truncate-ellipsis-2line u-max-width-330 u-max-width-230@tablet-only u-font-size-20@tablet\">\n",
       " Taylor Swift\n",
       " </span>\n",
       " </li>]"
      ]
     },
     "execution_count": 145,
     "metadata": {},
     "output_type": "execute_result"
    }
   ],
   "source": [
    "soup = BeautifulSoup(response.content, \"html.parser\")\n",
    "soup.select(\"#post-1479786 > div.pmc-paywall > div > div > div > div.chart-results-list.\\/\\/.lrv-u-padding-t-150.lrv-u-padding-t-050\\@mobile-max > div:nth-child(2) > ul > li.lrv-u-width-100p > ul > li.o-chart-results-list__item.\\/\\/.lrv-u-flex-grow-1.lrv-u-flex.lrv-u-flex-direction-column.lrv-u-justify-content-center.lrv-u-border-b-1.u-border-b-0\\@mobile-max.lrv-u-border-color-grey-light.lrv-u-padding-l-1\\@mobile-max\")"
   ]
  },
  {
   "cell_type": "code",
   "execution_count": 146,
   "id": "285f2322",
   "metadata": {},
   "outputs": [],
   "source": [
    "titles = []\n",
    "for title in soup.select(\"h3\")[4:104]:\n",
    "    titles.append(title.get_text().strip())\n",
    "\n",
    "artists = []\n",
    "for artist in soup.select(\"li.o-chart-results-list__item.\\/\\/.lrv-u-flex-grow-1.lrv-u-flex.lrv-u-flex-direction-column.lrv-u-justify-content-center.lrv-u-border-b-1.u-border-b-0\\@mobile-max.lrv-u-border-color-grey-light.lrv-u-padding-l-1\\@mobile-max > span\"):\n",
    "    artists.append(artist.get_text().strip())"
   ]
  },
  {
   "cell_type": "code",
   "execution_count": 147,
   "id": "4218bec6",
   "metadata": {},
   "outputs": [],
   "source": [
    "hot_100 = pd.DataFrame({'artist':artists,'title':titles})"
   ]
  },
  {
   "cell_type": "code",
   "execution_count": 148,
   "id": "d6ef7649",
   "metadata": {},
   "outputs": [
    {
     "data": {
      "text/html": [
       "<div>\n",
       "<style scoped>\n",
       "    .dataframe tbody tr th:only-of-type {\n",
       "        vertical-align: middle;\n",
       "    }\n",
       "\n",
       "    .dataframe tbody tr th {\n",
       "        vertical-align: top;\n",
       "    }\n",
       "\n",
       "    .dataframe thead th {\n",
       "        text-align: right;\n",
       "    }\n",
       "</style>\n",
       "<table border=\"1\" class=\"dataframe\">\n",
       "  <thead>\n",
       "    <tr style=\"text-align: right;\">\n",
       "      <th></th>\n",
       "      <th>artist</th>\n",
       "      <th>title</th>\n",
       "    </tr>\n",
       "  </thead>\n",
       "  <tbody>\n",
       "    <tr>\n",
       "      <th>0</th>\n",
       "      <td>Taylor Swift</td>\n",
       "      <td>All Too Well (Taylor's Version)</td>\n",
       "    </tr>\n",
       "    <tr>\n",
       "      <th>1</th>\n",
       "      <td>Adele</td>\n",
       "      <td>Easy On Me</td>\n",
       "    </tr>\n",
       "    <tr>\n",
       "      <th>2</th>\n",
       "      <td>The Kid LAROI &amp; Justin Bieber</td>\n",
       "      <td>Stay</td>\n",
       "    </tr>\n",
       "    <tr>\n",
       "      <th>3</th>\n",
       "      <td>Lil Nas X &amp; Jack Harlow</td>\n",
       "      <td>Industry Baby</td>\n",
       "    </tr>\n",
       "    <tr>\n",
       "      <th>4</th>\n",
       "      <td>Silk Sonic (Bruno Mars &amp; Anderson .Paak)</td>\n",
       "      <td>Smokin Out The Window</td>\n",
       "    </tr>\n",
       "  </tbody>\n",
       "</table>\n",
       "</div>"
      ],
      "text/plain": [
       "                                     artist                            title\n",
       "0                              Taylor Swift  All Too Well (Taylor's Version)\n",
       "1                                     Adele                       Easy On Me\n",
       "2             The Kid LAROI & Justin Bieber                             Stay\n",
       "3                   Lil Nas X & Jack Harlow                    Industry Baby\n",
       "4  Silk Sonic (Bruno Mars & Anderson .Paak)            Smokin Out The Window"
      ]
     },
     "execution_count": 148,
     "metadata": {},
     "output_type": "execute_result"
    }
   ],
   "source": [
    "hot_100.head()"
   ]
  },
  {
   "cell_type": "code",
   "execution_count": null,
   "id": "aeed7a48",
   "metadata": {},
   "outputs": [],
   "source": []
  },
  {
   "cell_type": "code",
   "execution_count": null,
   "id": "aca11fb1",
   "metadata": {},
   "outputs": [],
   "source": []
  }
 ],
 "metadata": {
  "kernelspec": {
   "display_name": "Python 3",
   "language": "python",
   "name": "python3"
  },
  "language_info": {
   "codemirror_mode": {
    "name": "ipython",
    "version": 3
   },
   "file_extension": ".py",
   "mimetype": "text/x-python",
   "name": "python",
   "nbconvert_exporter": "python",
   "pygments_lexer": "ipython3",
   "version": "3.8.8"
  }
 },
 "nbformat": 4,
 "nbformat_minor": 5
}
